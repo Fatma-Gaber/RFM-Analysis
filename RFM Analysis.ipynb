{
 "cells": [
  {
   "cell_type": "markdown",
   "id": "49f5710b",
   "metadata": {},
   "source": [
    "## RFM Analysis"
   ]
  },
  {
   "cell_type": "markdown",
   "id": "b9886677",
   "metadata": {},
   "source": [
    "### RFM stands for Recency, Frequency, and Monetary value.\n",
    "\n",
    "#### The  idea is to segment customers based on \n",
    "\n",
    "1- when their last purchase was\n",
    "\n",
    "2- how often they’ve purchased in the past\n",
    "\n",
    "3- and how much they’ve spent overall\n",
    "\n",
    "All three of these measures have proven to be effective predictors of a customer's willingness to engage in marketing messages and offers"
   ]
  },
  {
   "cell_type": "markdown",
   "id": "78cd2087",
   "metadata": {},
   "source": [
    "### Import nessecary Libraries "
   ]
  },
  {
   "cell_type": "code",
   "execution_count": 273,
   "id": "60fd5a29",
   "metadata": {},
   "outputs": [],
   "source": [
    "import pandas as pd\n",
    "import numpy as np\n",
    "import matplotlib.pyplot as plt\n",
    "import seaborn as sns"
   ]
  },
  {
   "cell_type": "markdown",
   "id": "92e2c9e3",
   "metadata": {},
   "source": [
    "### Exploratory Data Analysis"
   ]
  },
  {
   "cell_type": "code",
   "execution_count": 274,
   "id": "e451ad35",
   "metadata": {},
   "outputs": [],
   "source": [
    "df=pd.read_csv(\"online_retail.csv\",sep=';')"
   ]
  },
  {
   "cell_type": "code",
   "execution_count": 275,
   "id": "2b154464",
   "metadata": {},
   "outputs": [
    {
     "data": {
      "text/html": [
       "<div>\n",
       "<style scoped>\n",
       "    .dataframe tbody tr th:only-of-type {\n",
       "        vertical-align: middle;\n",
       "    }\n",
       "\n",
       "    .dataframe tbody tr th {\n",
       "        vertical-align: top;\n",
       "    }\n",
       "\n",
       "    .dataframe thead th {\n",
       "        text-align: right;\n",
       "    }\n",
       "</style>\n",
       "<table border=\"1\" class=\"dataframe\">\n",
       "  <thead>\n",
       "    <tr style=\"text-align: right;\">\n",
       "      <th></th>\n",
       "      <th>Invoice</th>\n",
       "      <th>StockCode</th>\n",
       "      <th>Description</th>\n",
       "      <th>Quantity</th>\n",
       "      <th>InvoiceDate</th>\n",
       "      <th>Price</th>\n",
       "      <th>Customer ID</th>\n",
       "      <th>Country</th>\n",
       "    </tr>\n",
       "  </thead>\n",
       "  <tbody>\n",
       "    <tr>\n",
       "      <th>0</th>\n",
       "      <td>489434</td>\n",
       "      <td>85048</td>\n",
       "      <td>15CM CHRISTMAS GLASS BALL 20 LIGHTS</td>\n",
       "      <td>12</td>\n",
       "      <td>1.12.2009 07:45</td>\n",
       "      <td>6,95</td>\n",
       "      <td>13085.0</td>\n",
       "      <td>United Kingdom</td>\n",
       "    </tr>\n",
       "    <tr>\n",
       "      <th>1</th>\n",
       "      <td>489434</td>\n",
       "      <td>79323P</td>\n",
       "      <td>PINK CHERRY LIGHTS</td>\n",
       "      <td>12</td>\n",
       "      <td>1.12.2009 07:45</td>\n",
       "      <td>6,75</td>\n",
       "      <td>13085.0</td>\n",
       "      <td>United Kingdom</td>\n",
       "    </tr>\n",
       "    <tr>\n",
       "      <th>2</th>\n",
       "      <td>489434</td>\n",
       "      <td>79323W</td>\n",
       "      <td>WHITE CHERRY LIGHTS</td>\n",
       "      <td>12</td>\n",
       "      <td>1.12.2009 07:45</td>\n",
       "      <td>6,75</td>\n",
       "      <td>13085.0</td>\n",
       "      <td>United Kingdom</td>\n",
       "    </tr>\n",
       "    <tr>\n",
       "      <th>3</th>\n",
       "      <td>489434</td>\n",
       "      <td>22041</td>\n",
       "      <td>RECORD FRAME 7\" SINGLE SIZE</td>\n",
       "      <td>48</td>\n",
       "      <td>1.12.2009 07:45</td>\n",
       "      <td>2,1</td>\n",
       "      <td>13085.0</td>\n",
       "      <td>United Kingdom</td>\n",
       "    </tr>\n",
       "    <tr>\n",
       "      <th>4</th>\n",
       "      <td>489434</td>\n",
       "      <td>21232</td>\n",
       "      <td>STRAWBERRY CERAMIC TRINKET BOX</td>\n",
       "      <td>24</td>\n",
       "      <td>1.12.2009 07:45</td>\n",
       "      <td>1,25</td>\n",
       "      <td>13085.0</td>\n",
       "      <td>United Kingdom</td>\n",
       "    </tr>\n",
       "  </tbody>\n",
       "</table>\n",
       "</div>"
      ],
      "text/plain": [
       "  Invoice StockCode                          Description  Quantity  \\\n",
       "0  489434     85048  15CM CHRISTMAS GLASS BALL 20 LIGHTS        12   \n",
       "1  489434    79323P                   PINK CHERRY LIGHTS        12   \n",
       "2  489434    79323W                  WHITE CHERRY LIGHTS        12   \n",
       "3  489434     22041         RECORD FRAME 7\" SINGLE SIZE         48   \n",
       "4  489434     21232       STRAWBERRY CERAMIC TRINKET BOX        24   \n",
       "\n",
       "       InvoiceDate Price  Customer ID         Country  \n",
       "0  1.12.2009 07:45  6,95      13085.0  United Kingdom  \n",
       "1  1.12.2009 07:45  6,75      13085.0  United Kingdom  \n",
       "2  1.12.2009 07:45  6,75      13085.0  United Kingdom  \n",
       "3  1.12.2009 07:45   2,1      13085.0  United Kingdom  \n",
       "4  1.12.2009 07:45  1,25      13085.0  United Kingdom  "
      ]
     },
     "execution_count": 275,
     "metadata": {},
     "output_type": "execute_result"
    }
   ],
   "source": [
    "df.head()"
   ]
  },
  {
   "cell_type": "code",
   "execution_count": 276,
   "id": "91cd6dc7",
   "metadata": {},
   "outputs": [
    {
     "name": "stdout",
     "output_type": "stream",
     "text": [
      "<class 'pandas.core.frame.DataFrame'>\n",
      "RangeIndex: 1048575 entries, 0 to 1048574\n",
      "Data columns (total 8 columns):\n",
      " #   Column       Non-Null Count    Dtype  \n",
      "---  ------       --------------    -----  \n",
      " 0   Invoice      1048575 non-null  object \n",
      " 1   StockCode    1048575 non-null  object \n",
      " 2   Description  1044203 non-null  object \n",
      " 3   Quantity     1048575 non-null  int64  \n",
      " 4   InvoiceDate  1048575 non-null  object \n",
      " 5   Price        1048575 non-null  object \n",
      " 6   Customer ID  811893 non-null   float64\n",
      " 7   Country      1048575 non-null  object \n",
      "dtypes: float64(1), int64(1), object(6)\n",
      "memory usage: 64.0+ MB\n"
     ]
    }
   ],
   "source": [
    "df.info()"
   ]
  },
  {
   "cell_type": "code",
   "execution_count": 277,
   "id": "92bda2f7",
   "metadata": {},
   "outputs": [
    {
     "data": {
      "text/plain": [
       "(1048575, 8)"
      ]
     },
     "execution_count": 277,
     "metadata": {},
     "output_type": "execute_result"
    }
   ],
   "source": [
    "df.shape"
   ]
  },
  {
   "cell_type": "markdown",
   "id": "38ae8b01",
   "metadata": {},
   "source": [
    "### Convert DataTypes\n",
    "   1- To DateTime of Invoice Date Column\n",
    "    "
   ]
  },
  {
   "cell_type": "code",
   "execution_count": 278,
   "id": "6ff1234f",
   "metadata": {},
   "outputs": [],
   "source": [
    "df[\"InvoiceDate\"]=pd.to_datetime(df[\"InvoiceDate\"])\n"
   ]
  },
  {
   "cell_type": "markdown",
   "id": "fb603eea",
   "metadata": {},
   "source": [
    "2- To Float For Price Column"
   ]
  },
  {
   "cell_type": "code",
   "execution_count": 279,
   "id": "1cb2cdc5",
   "metadata": {},
   "outputs": [],
   "source": [
    "df.replace({'Price': {',': '.'}}, regex=True,inplace=True)"
   ]
  },
  {
   "cell_type": "code",
   "execution_count": 280,
   "id": "d4c905f4",
   "metadata": {},
   "outputs": [],
   "source": [
    "df[\"Price\"]=df[\"Price\"].astype(float)"
   ]
  },
  {
   "cell_type": "code",
   "execution_count": 281,
   "id": "a743e09b",
   "metadata": {},
   "outputs": [
    {
     "name": "stdout",
     "output_type": "stream",
     "text": [
      "<class 'pandas.core.frame.DataFrame'>\n",
      "RangeIndex: 1048575 entries, 0 to 1048574\n",
      "Data columns (total 8 columns):\n",
      " #   Column       Non-Null Count    Dtype         \n",
      "---  ------       --------------    -----         \n",
      " 0   Invoice      1048575 non-null  object        \n",
      " 1   StockCode    1048575 non-null  object        \n",
      " 2   Description  1044203 non-null  object        \n",
      " 3   Quantity     1048575 non-null  int64         \n",
      " 4   InvoiceDate  1048575 non-null  datetime64[ns]\n",
      " 5   Price        1048575 non-null  float64       \n",
      " 6   Customer ID  811893 non-null   float64       \n",
      " 7   Country      1048575 non-null  object        \n",
      "dtypes: datetime64[ns](1), float64(2), int64(1), object(4)\n",
      "memory usage: 64.0+ MB\n"
     ]
    }
   ],
   "source": [
    "df.info()"
   ]
  },
  {
   "cell_type": "markdown",
   "id": "6f79df8e",
   "metadata": {},
   "source": [
    "### Detect Missing Values"
   ]
  },
  {
   "cell_type": "code",
   "execution_count": 282,
   "id": "af103249",
   "metadata": {},
   "outputs": [
    {
     "data": {
      "text/plain": [
       "Invoice             0\n",
       "StockCode           0\n",
       "Description      4372\n",
       "Quantity            0\n",
       "InvoiceDate         0\n",
       "Price               0\n",
       "Customer ID    236682\n",
       "Country             0\n",
       "dtype: int64"
      ]
     },
     "execution_count": 282,
     "metadata": {},
     "output_type": "execute_result"
    }
   ],
   "source": [
    "df.isnull().sum()"
   ]
  },
  {
   "cell_type": "code",
   "execution_count": 283,
   "id": "e28939c3",
   "metadata": {},
   "outputs": [
    {
     "data": {
      "text/plain": [
       "<AxesSubplot:>"
      ]
     },
     "execution_count": 283,
     "metadata": {},
     "output_type": "execute_result"
    },
    {
     "data": {
      "image/png": "[encoded data removed]",
      "text/plain": [
       "<Figure size 432x288 with 1 Axes>"
      ]
     },
     "metadata": {
      "needs_background": "light"
     },
     "output_type": "display_data"
    }
   ],
   "source": [
    "sns.heatmap(df.isnull(),yticklabels=False,cbar=False)"
   ]
  },
  {
   "cell_type": "markdown",
   "id": "22a37f8c",
   "metadata": {},
   "source": [
    "### Handling Missing Values"
   ]
  },
  {
   "cell_type": "code",
   "execution_count": 284,
   "id": "19f77d67",
   "metadata": {},
   "outputs": [
    {
     "data": {
      "text/plain": [
       "Invoice        0\n",
       "StockCode      0\n",
       "Description    0\n",
       "Quantity       0\n",
       "InvoiceDate    0\n",
       "Price          0\n",
       "Customer ID    0\n",
       "Country        0\n",
       "dtype: int64"
      ]
     },
     "execution_count": 284,
     "metadata": {},
     "output_type": "execute_result"
    }
   ],
   "source": [
    "df.dropna(inplace = True)\n",
    "df.isnull().sum()"
   ]
  },
  {
   "cell_type": "markdown",
   "id": "b583eb74",
   "metadata": {},
   "source": [
    "## Detect Outliers"
   ]
  },
  {
   "cell_type": "code",
   "execution_count": 285,
   "id": "9c68c5e4",
   "metadata": {},
   "outputs": [
    {
     "data": {
      "text/html": [
       "<div>\n",
       "<style scoped>\n",
       "    .dataframe tbody tr th:only-of-type {\n",
       "        vertical-align: middle;\n",
       "    }\n",
       "\n",
       "    .dataframe tbody tr th {\n",
       "        vertical-align: top;\n",
       "    }\n",
       "\n",
       "    .dataframe thead th {\n",
       "        text-align: right;\n",
       "    }\n",
       "</style>\n",
       "<table border=\"1\" class=\"dataframe\">\n",
       "  <thead>\n",
       "    <tr style=\"text-align: right;\">\n",
       "      <th></th>\n",
       "      <th>Quantity</th>\n",
       "      <th>Price</th>\n",
       "      <th>Customer ID</th>\n",
       "    </tr>\n",
       "  </thead>\n",
       "  <tbody>\n",
       "    <tr>\n",
       "      <th>count</th>\n",
       "      <td>811893.000000</td>\n",
       "      <td>811893.000000</td>\n",
       "      <td>811893.000000</td>\n",
       "    </tr>\n",
       "    <tr>\n",
       "      <th>mean</th>\n",
       "      <td>12.422211</td>\n",
       "      <td>3.689914</td>\n",
       "      <td>15324.712265</td>\n",
       "    </tr>\n",
       "    <tr>\n",
       "      <th>std</th>\n",
       "      <td>141.686387</td>\n",
       "      <td>70.743669</td>\n",
       "      <td>1697.033034</td>\n",
       "    </tr>\n",
       "    <tr>\n",
       "      <th>min</th>\n",
       "      <td>-74215.000000</td>\n",
       "      <td>0.000000</td>\n",
       "      <td>12346.000000</td>\n",
       "    </tr>\n",
       "    <tr>\n",
       "      <th>25%</th>\n",
       "      <td>2.000000</td>\n",
       "      <td>1.250000</td>\n",
       "      <td>13971.000000</td>\n",
       "    </tr>\n",
       "    <tr>\n",
       "      <th>50%</th>\n",
       "      <td>5.000000</td>\n",
       "      <td>1.950000</td>\n",
       "      <td>15260.000000</td>\n",
       "    </tr>\n",
       "    <tr>\n",
       "      <th>75%</th>\n",
       "      <td>12.000000</td>\n",
       "      <td>3.750000</td>\n",
       "      <td>16795.000000</td>\n",
       "    </tr>\n",
       "    <tr>\n",
       "      <th>max</th>\n",
       "      <td>74215.000000</td>\n",
       "      <td>38970.000000</td>\n",
       "      <td>18287.000000</td>\n",
       "    </tr>\n",
       "  </tbody>\n",
       "</table>\n",
       "</div>"
      ],
      "text/plain": [
       "            Quantity          Price    Customer ID\n",
       "count  811893.000000  811893.000000  811893.000000\n",
       "mean       12.422211       3.689914   15324.712265\n",
       "std       141.686387      70.743669    1697.033034\n",
       "min    -74215.000000       0.000000   12346.000000\n",
       "25%         2.000000       1.250000   13971.000000\n",
       "50%         5.000000       1.950000   15260.000000\n",
       "75%        12.000000       3.750000   16795.000000\n",
       "max     74215.000000   38970.000000   18287.000000"
      ]
     },
     "execution_count": 285,
     "metadata": {},
     "output_type": "execute_result"
    }
   ],
   "source": [
    "df.describe()"
   ]
  },
  {
   "cell_type": "code",
   "execution_count": 286,
   "id": "458e7545",
   "metadata": {},
   "outputs": [
    {
     "name": "stdout",
     "output_type": "stream",
     "text": [
      "skewness value of Quantity:  12.44822711309925\n",
      "skewness value of Price:  309.2990004611184\n"
     ]
    }
   ],
   "source": [
    "print('skewness value of Quantity: ',df['Quantity'].skew())\n",
    "print('skewness value of Price: ',df['Price'].skew())"
   ]
  },
  {
   "cell_type": "markdown",
   "id": "c9325329",
   "metadata": {},
   "source": [
    "This is easy to check with the skewness value, which explains the extent to which the data is normally distributed. Ideally, the skewness value should be between -1 and +1, and any major deviation from this range indicates the presence of extreme values."
   ]
  },
  {
   "cell_type": "markdown",
   "id": "fefe1fb7",
   "metadata": {},
   "source": [
    "### Identify The Issues in Returned Orders"
   ]
  },
  {
   "cell_type": "code",
   "execution_count": 287,
   "id": "35c00865",
   "metadata": {},
   "outputs": [
    {
     "data": {
      "text/html": [
       "<div>\n",
       "<style scoped>\n",
       "    .dataframe tbody tr th:only-of-type {\n",
       "        vertical-align: middle;\n",
       "    }\n",
       "\n",
       "    .dataframe tbody tr th {\n",
       "        vertical-align: top;\n",
       "    }\n",
       "\n",
       "    .dataframe thead th {\n",
       "        text-align: right;\n",
       "    }\n",
       "</style>\n",
       "<table border=\"1\" class=\"dataframe\">\n",
       "  <thead>\n",
       "    <tr style=\"text-align: right;\">\n",
       "      <th></th>\n",
       "      <th>Invoice</th>\n",
       "      <th>StockCode</th>\n",
       "      <th>Description</th>\n",
       "      <th>Quantity</th>\n",
       "      <th>InvoiceDate</th>\n",
       "      <th>Price</th>\n",
       "      <th>Customer ID</th>\n",
       "      <th>Country</th>\n",
       "    </tr>\n",
       "  </thead>\n",
       "  <tbody>\n",
       "    <tr>\n",
       "      <th>178</th>\n",
       "      <td>C489449</td>\n",
       "      <td>22087</td>\n",
       "      <td>PAPER BUNTING WHITE LACE</td>\n",
       "      <td>-12</td>\n",
       "      <td>2009-01-12 10:33:00</td>\n",
       "      <td>2.95</td>\n",
       "      <td>16321.0</td>\n",
       "      <td>Australia</td>\n",
       "    </tr>\n",
       "    <tr>\n",
       "      <th>179</th>\n",
       "      <td>C489449</td>\n",
       "      <td>85206A</td>\n",
       "      <td>CREAM FELT EASTER EGG BASKET</td>\n",
       "      <td>-6</td>\n",
       "      <td>2009-01-12 10:33:00</td>\n",
       "      <td>1.65</td>\n",
       "      <td>16321.0</td>\n",
       "      <td>Australia</td>\n",
       "    </tr>\n",
       "    <tr>\n",
       "      <th>180</th>\n",
       "      <td>C489449</td>\n",
       "      <td>21895</td>\n",
       "      <td>POTTING SHED SOW 'N' GROW SET</td>\n",
       "      <td>-4</td>\n",
       "      <td>2009-01-12 10:33:00</td>\n",
       "      <td>4.25</td>\n",
       "      <td>16321.0</td>\n",
       "      <td>Australia</td>\n",
       "    </tr>\n",
       "    <tr>\n",
       "      <th>181</th>\n",
       "      <td>C489449</td>\n",
       "      <td>21896</td>\n",
       "      <td>POTTING SHED TWINE</td>\n",
       "      <td>-6</td>\n",
       "      <td>2009-01-12 10:33:00</td>\n",
       "      <td>2.10</td>\n",
       "      <td>16321.0</td>\n",
       "      <td>Australia</td>\n",
       "    </tr>\n",
       "    <tr>\n",
       "      <th>182</th>\n",
       "      <td>C489449</td>\n",
       "      <td>22083</td>\n",
       "      <td>PAPER CHAIN KIT RETRO SPOT</td>\n",
       "      <td>-12</td>\n",
       "      <td>2009-01-12 10:33:00</td>\n",
       "      <td>2.95</td>\n",
       "      <td>16321.0</td>\n",
       "      <td>Australia</td>\n",
       "    </tr>\n",
       "    <tr>\n",
       "      <th>...</th>\n",
       "      <td>...</td>\n",
       "      <td>...</td>\n",
       "      <td>...</td>\n",
       "      <td>...</td>\n",
       "      <td>...</td>\n",
       "      <td>...</td>\n",
       "      <td>...</td>\n",
       "      <td>...</td>\n",
       "    </tr>\n",
       "    <tr>\n",
       "      <th>1046566</th>\n",
       "      <td>C580313</td>\n",
       "      <td>22649</td>\n",
       "      <td>STRAWBERRY FAIRY CAKE TEAPOT</td>\n",
       "      <td>-3</td>\n",
       "      <td>2011-02-12 15:10:00</td>\n",
       "      <td>4.95</td>\n",
       "      <td>12668.0</td>\n",
       "      <td>Germany</td>\n",
       "    </tr>\n",
       "    <tr>\n",
       "      <th>1046567</th>\n",
       "      <td>C580313</td>\n",
       "      <td>22419</td>\n",
       "      <td>LIPSTICK PEN RED</td>\n",
       "      <td>-6</td>\n",
       "      <td>2011-02-12 15:10:00</td>\n",
       "      <td>0.42</td>\n",
       "      <td>12668.0</td>\n",
       "      <td>Germany</td>\n",
       "    </tr>\n",
       "    <tr>\n",
       "      <th>1046568</th>\n",
       "      <td>C580313</td>\n",
       "      <td>22303</td>\n",
       "      <td>COFFEE MUG APPLES DESIGN</td>\n",
       "      <td>-2</td>\n",
       "      <td>2011-02-12 15:10:00</td>\n",
       "      <td>2.55</td>\n",
       "      <td>12668.0</td>\n",
       "      <td>Germany</td>\n",
       "    </tr>\n",
       "    <tr>\n",
       "      <th>1046569</th>\n",
       "      <td>C580313</td>\n",
       "      <td>21232</td>\n",
       "      <td>STRAWBERRY CERAMIC TRINKET POT</td>\n",
       "      <td>-3</td>\n",
       "      <td>2011-02-12 15:10:00</td>\n",
       "      <td>1.25</td>\n",
       "      <td>12668.0</td>\n",
       "      <td>Germany</td>\n",
       "    </tr>\n",
       "    <tr>\n",
       "      <th>1047708</th>\n",
       "      <td>C580392</td>\n",
       "      <td>84247E</td>\n",
       "      <td>PACK OF 12 CHRISTMAS FUN CARDS</td>\n",
       "      <td>-12</td>\n",
       "      <td>2011-04-12 10:46:00</td>\n",
       "      <td>2.95</td>\n",
       "      <td>16283.0</td>\n",
       "      <td>United Kingdom</td>\n",
       "    </tr>\n",
       "  </tbody>\n",
       "</table>\n",
       "<p>18513 rows × 8 columns</p>\n",
       "</div>"
      ],
      "text/plain": [
       "         Invoice StockCode                     Description  Quantity  \\\n",
       "178      C489449     22087        PAPER BUNTING WHITE LACE       -12   \n",
       "179      C489449    85206A    CREAM FELT EASTER EGG BASKET        -6   \n",
       "180      C489449     21895   POTTING SHED SOW 'N' GROW SET        -4   \n",
       "181      C489449     21896              POTTING SHED TWINE        -6   \n",
       "182      C489449     22083      PAPER CHAIN KIT RETRO SPOT       -12   \n",
       "...          ...       ...                             ...       ...   \n",
       "1046566  C580313     22649    STRAWBERRY FAIRY CAKE TEAPOT        -3   \n",
       "1046567  C580313     22419                LIPSTICK PEN RED        -6   \n",
       "1046568  C580313     22303        COFFEE MUG APPLES DESIGN        -2   \n",
       "1046569  C580313     21232  STRAWBERRY CERAMIC TRINKET POT        -3   \n",
       "1047708  C580392    84247E  PACK OF 12 CHRISTMAS FUN CARDS       -12   \n",
       "\n",
       "                InvoiceDate  Price  Customer ID         Country  \n",
       "178     2009-01-12 10:33:00   2.95      16321.0       Australia  \n",
       "179     2009-01-12 10:33:00   1.65      16321.0       Australia  \n",
       "180     2009-01-12 10:33:00   4.25      16321.0       Australia  \n",
       "181     2009-01-12 10:33:00   2.10      16321.0       Australia  \n",
       "182     2009-01-12 10:33:00   2.95      16321.0       Australia  \n",
       "...                     ...    ...          ...             ...  \n",
       "1046566 2011-02-12 15:10:00   4.95      12668.0         Germany  \n",
       "1046567 2011-02-12 15:10:00   0.42      12668.0         Germany  \n",
       "1046568 2011-02-12 15:10:00   2.55      12668.0         Germany  \n",
       "1046569 2011-02-12 15:10:00   1.25      12668.0         Germany  \n",
       "1047708 2011-04-12 10:46:00   2.95      16283.0  United Kingdom  \n",
       "\n",
       "[18513 rows x 8 columns]"
      ]
     },
     "execution_count": 287,
     "metadata": {},
     "output_type": "execute_result"
    }
   ],
   "source": [
    "returned = df[df[\"Invoice\"].str.contains(\"C\",na=False)]\n",
    "returned"
   ]
  },
  {
   "cell_type": "code",
   "execution_count": 288,
   "id": "335acc09",
   "metadata": {},
   "outputs": [
    {
     "data": {
      "text/plain": [
       "(18513, 8)"
      ]
     },
     "execution_count": 288,
     "metadata": {},
     "output_type": "execute_result"
    }
   ],
   "source": [
    "returned.shape"
   ]
  },
  {
   "cell_type": "markdown",
   "id": "56230bb0",
   "metadata": {},
   "source": [
    "We identify That there are 19261 returned order with negative value in Qunatity Which can make The Outlier on The dataset "
   ]
  },
  {
   "cell_type": "markdown",
   "id": "a8164782",
   "metadata": {},
   "source": [
    "## Visualize Outliers"
   ]
  },
  {
   "cell_type": "code",
   "execution_count": 289,
   "id": "600343fc",
   "metadata": {},
   "outputs": [
    {
     "data": {
      "text/plain": [
       "<AxesSubplot:>"
      ]
     },
     "execution_count": 289,
     "metadata": {},
     "output_type": "execute_result"
    },
    {
     "data": {
      "image/png": "[encoded data removed]",
      "text/plain": [
       "<Figure size 432x288 with 1 Axes>"
      ]
     },
     "metadata": {
      "needs_background": "light"
     },
     "output_type": "display_data"
    }
   ],
   "source": [
    "df[\"Quantity\"].hist()\n"
   ]
  },
  {
   "cell_type": "code",
   "execution_count": 290,
   "id": "27b29d60",
   "metadata": {},
   "outputs": [
    {
     "data": {
      "text/plain": [
       "<AxesSubplot:>"
      ]
     },
     "execution_count": 290,
     "metadata": {},
     "output_type": "execute_result"
    },
    {
     "data": {
      "image/png": "[encoded data removed]",
      "text/plain": [
       "<Figure size 432x288 with 1 Axes>"
      ]
     },
     "metadata": {
      "needs_background": "light"
     },
     "output_type": "display_data"
    }
   ],
   "source": [
    "df[\"Price\"].hist()"
   ]
  },
  {
   "cell_type": "markdown",
   "id": "83e5bf4a",
   "metadata": {},
   "source": [
    "Drop Returned Inoviced that because i don't need it in My Analysis"
   ]
  },
  {
   "cell_type": "code",
   "execution_count": 291,
   "id": "b5a1f3a9",
   "metadata": {},
   "outputs": [
    {
     "data": {
      "text/html": [
       "<div>\n",
       "<style scoped>\n",
       "    .dataframe tbody tr th:only-of-type {\n",
       "        vertical-align: middle;\n",
       "    }\n",
       "\n",
       "    .dataframe tbody tr th {\n",
       "        vertical-align: top;\n",
       "    }\n",
       "\n",
       "    .dataframe thead th {\n",
       "        text-align: right;\n",
       "    }\n",
       "</style>\n",
       "<table border=\"1\" class=\"dataframe\">\n",
       "  <thead>\n",
       "    <tr style=\"text-align: right;\">\n",
       "      <th></th>\n",
       "      <th>Invoice</th>\n",
       "      <th>StockCode</th>\n",
       "      <th>Description</th>\n",
       "      <th>Quantity</th>\n",
       "      <th>InvoiceDate</th>\n",
       "      <th>Price</th>\n",
       "      <th>Customer ID</th>\n",
       "      <th>Country</th>\n",
       "    </tr>\n",
       "  </thead>\n",
       "  <tbody>\n",
       "    <tr>\n",
       "      <th>0</th>\n",
       "      <td>489434</td>\n",
       "      <td>85048</td>\n",
       "      <td>15CM CHRISTMAS GLASS BALL 20 LIGHTS</td>\n",
       "      <td>12</td>\n",
       "      <td>2009-01-12 07:45:00</td>\n",
       "      <td>6.95</td>\n",
       "      <td>13085.0</td>\n",
       "      <td>United Kingdom</td>\n",
       "    </tr>\n",
       "    <tr>\n",
       "      <th>1</th>\n",
       "      <td>489434</td>\n",
       "      <td>79323P</td>\n",
       "      <td>PINK CHERRY LIGHTS</td>\n",
       "      <td>12</td>\n",
       "      <td>2009-01-12 07:45:00</td>\n",
       "      <td>6.75</td>\n",
       "      <td>13085.0</td>\n",
       "      <td>United Kingdom</td>\n",
       "    </tr>\n",
       "    <tr>\n",
       "      <th>2</th>\n",
       "      <td>489434</td>\n",
       "      <td>79323W</td>\n",
       "      <td>WHITE CHERRY LIGHTS</td>\n",
       "      <td>12</td>\n",
       "      <td>2009-01-12 07:45:00</td>\n",
       "      <td>6.75</td>\n",
       "      <td>13085.0</td>\n",
       "      <td>United Kingdom</td>\n",
       "    </tr>\n",
       "    <tr>\n",
       "      <th>3</th>\n",
       "      <td>489434</td>\n",
       "      <td>22041</td>\n",
       "      <td>RECORD FRAME 7\" SINGLE SIZE</td>\n",
       "      <td>48</td>\n",
       "      <td>2009-01-12 07:45:00</td>\n",
       "      <td>2.10</td>\n",
       "      <td>13085.0</td>\n",
       "      <td>United Kingdom</td>\n",
       "    </tr>\n",
       "    <tr>\n",
       "      <th>4</th>\n",
       "      <td>489434</td>\n",
       "      <td>21232</td>\n",
       "      <td>STRAWBERRY CERAMIC TRINKET BOX</td>\n",
       "      <td>24</td>\n",
       "      <td>2009-01-12 07:45:00</td>\n",
       "      <td>1.25</td>\n",
       "      <td>13085.0</td>\n",
       "      <td>United Kingdom</td>\n",
       "    </tr>\n",
       "    <tr>\n",
       "      <th>...</th>\n",
       "      <td>...</td>\n",
       "      <td>...</td>\n",
       "      <td>...</td>\n",
       "      <td>...</td>\n",
       "      <td>...</td>\n",
       "      <td>...</td>\n",
       "      <td>...</td>\n",
       "      <td>...</td>\n",
       "    </tr>\n",
       "    <tr>\n",
       "      <th>1048570</th>\n",
       "      <td>580501</td>\n",
       "      <td>23284</td>\n",
       "      <td>DOORMAT KEEP CALM AND COME IN</td>\n",
       "      <td>2</td>\n",
       "      <td>2011-04-12 13:00:00</td>\n",
       "      <td>8.25</td>\n",
       "      <td>14546.0</td>\n",
       "      <td>United Kingdom</td>\n",
       "    </tr>\n",
       "    <tr>\n",
       "      <th>1048571</th>\n",
       "      <td>580501</td>\n",
       "      <td>22507</td>\n",
       "      <td>MEMO BOARD RETROSPOT  DESIGN</td>\n",
       "      <td>3</td>\n",
       "      <td>2011-04-12 13:00:00</td>\n",
       "      <td>4.95</td>\n",
       "      <td>14546.0</td>\n",
       "      <td>United Kingdom</td>\n",
       "    </tr>\n",
       "    <tr>\n",
       "      <th>1048572</th>\n",
       "      <td>580502</td>\n",
       "      <td>22469</td>\n",
       "      <td>HEART OF WICKER SMALL</td>\n",
       "      <td>3</td>\n",
       "      <td>2011-04-12 13:15:00</td>\n",
       "      <td>1.65</td>\n",
       "      <td>16931.0</td>\n",
       "      <td>United Kingdom</td>\n",
       "    </tr>\n",
       "    <tr>\n",
       "      <th>1048573</th>\n",
       "      <td>580502</td>\n",
       "      <td>23489</td>\n",
       "      <td>VINTAGE BELLS GARLAND</td>\n",
       "      <td>2</td>\n",
       "      <td>2011-04-12 13:15:00</td>\n",
       "      <td>2.89</td>\n",
       "      <td>16931.0</td>\n",
       "      <td>United Kingdom</td>\n",
       "    </tr>\n",
       "    <tr>\n",
       "      <th>1048574</th>\n",
       "      <td>580502</td>\n",
       "      <td>23046</td>\n",
       "      <td>PAPER LANTERN 9 POINT DELUXE STAR</td>\n",
       "      <td>1</td>\n",
       "      <td>2011-04-12 13:15:00</td>\n",
       "      <td>6.65</td>\n",
       "      <td>16931.0</td>\n",
       "      <td>United Kingdom</td>\n",
       "    </tr>\n",
       "  </tbody>\n",
       "</table>\n",
       "<p>793380 rows × 8 columns</p>\n",
       "</div>"
      ],
      "text/plain": [
       "        Invoice StockCode                          Description  Quantity  \\\n",
       "0        489434     85048  15CM CHRISTMAS GLASS BALL 20 LIGHTS        12   \n",
       "1        489434    79323P                   PINK CHERRY LIGHTS        12   \n",
       "2        489434    79323W                  WHITE CHERRY LIGHTS        12   \n",
       "3        489434     22041         RECORD FRAME 7\" SINGLE SIZE         48   \n",
       "4        489434     21232       STRAWBERRY CERAMIC TRINKET BOX        24   \n",
       "...         ...       ...                                  ...       ...   \n",
       "1048570  580501     23284        DOORMAT KEEP CALM AND COME IN         2   \n",
       "1048571  580501     22507         MEMO BOARD RETROSPOT  DESIGN         3   \n",
       "1048572  580502     22469                HEART OF WICKER SMALL         3   \n",
       "1048573  580502     23489                VINTAGE BELLS GARLAND         2   \n",
       "1048574  580502     23046    PAPER LANTERN 9 POINT DELUXE STAR         1   \n",
       "\n",
       "                InvoiceDate  Price  Customer ID         Country  \n",
       "0       2009-01-12 07:45:00   6.95      13085.0  United Kingdom  \n",
       "1       2009-01-12 07:45:00   6.75      13085.0  United Kingdom  \n",
       "2       2009-01-12 07:45:00   6.75      13085.0  United Kingdom  \n",
       "3       2009-01-12 07:45:00   2.10      13085.0  United Kingdom  \n",
       "4       2009-01-12 07:45:00   1.25      13085.0  United Kingdom  \n",
       "...                     ...    ...          ...             ...  \n",
       "1048570 2011-04-12 13:00:00   8.25      14546.0  United Kingdom  \n",
       "1048571 2011-04-12 13:00:00   4.95      14546.0  United Kingdom  \n",
       "1048572 2011-04-12 13:15:00   1.65      16931.0  United Kingdom  \n",
       "1048573 2011-04-12 13:15:00   2.89      16931.0  United Kingdom  \n",
       "1048574 2011-04-12 13:15:00   6.65      16931.0  United Kingdom  \n",
       "\n",
       "[793380 rows x 8 columns]"
      ]
     },
     "execution_count": 291,
     "metadata": {},
     "output_type": "execute_result"
    }
   ],
   "source": [
    "df= df[~df[\"Invoice\"].str.contains(\"C\", na = False)]\n",
    "df"
   ]
  },
  {
   "cell_type": "markdown",
   "id": "e9b09e31",
   "metadata": {},
   "source": [
    "## Handling Outliers"
   ]
  },
  {
   "cell_type": "code",
   "execution_count": 292,
   "id": "19edffbc",
   "metadata": {},
   "outputs": [],
   "source": [
    "for feature in [\"Quantity\",\"Price\"]:\n",
    "\n",
    "    Q1 = df[feature].quantile(0.10)\n",
    "    Q3 = df[feature].quantile(0.90)\n",
    "    IQR = Q3-Q1\n",
    "    upper = Q3 + 1.5*IQR\n",
    "    lower = Q1 - 1.5*IQR\n",
    "    df[feature]=np.where(df[feature]>upper,upper,np.where(df[feature]<lower,lower,df[feature]))"
   ]
  },
  {
   "cell_type": "markdown",
   "id": "e2aad0a4",
   "metadata": {},
   "source": [
    "Check The value os Skewness Again"
   ]
  },
  {
   "cell_type": "code",
   "execution_count": 293,
   "id": "c8d80a67",
   "metadata": {},
   "outputs": [
    {
     "name": "stdout",
     "output_type": "stream",
     "text": [
      "skewness value of Quantity:  2.4515365479976974\n",
      "skewness value of Price:  2.1607192670132136\n"
     ]
    }
   ],
   "source": [
    "print('skewness value of Quantity: ',df['Quantity'].skew())\n",
    "print('skewness value of Price: ',df['Price'].skew())"
   ]
  },
  {
   "cell_type": "markdown",
   "id": "1cd0d4f6",
   "metadata": {},
   "source": [
    "## Add Total Price Column\n",
    "As that we interested with RFM Scores We need to know The TotalPrice Per each Invoice"
   ]
  },
  {
   "cell_type": "code",
   "execution_count": 294,
   "id": "a2897622",
   "metadata": {},
   "outputs": [
    {
     "data": {
      "text/plain": [
       "0           83.40\n",
       "1           81.00\n",
       "2           81.00\n",
       "3          100.80\n",
       "4           30.00\n",
       "            ...  \n",
       "1048570     16.50\n",
       "1048571     14.85\n",
       "1048572      4.95\n",
       "1048573      5.78\n",
       "1048574      6.65\n",
       "Name: TotalSum, Length: 793380, dtype: float64"
      ]
     },
     "execution_count": 294,
     "metadata": {},
     "output_type": "execute_result"
    }
   ],
   "source": [
    "df[\"TotalSum\"]=df[\"Price\"]*df[\"Quantity\"]\n",
    "df[\"TotalSum\"]"
   ]
  },
  {
   "cell_type": "markdown",
   "id": "7b89fec3",
   "metadata": {},
   "source": [
    "Check if there's any value not make sense in the 3 columns that we intersted in \n",
    "total sum- Qunatity- Price"
   ]
  },
  {
   "cell_type": "code",
   "execution_count": 295,
   "id": "12ee19a3",
   "metadata": {},
   "outputs": [
    {
     "data": {
      "text/plain": [
       "<AxesSubplot:>"
      ]
     },
     "execution_count": 295,
     "metadata": {},
     "output_type": "execute_result"
    },
    {
     "data": {
      "image/png": "[encoded data removed]",
      "text/plain": [
       "<Figure size 432x288 with 1 Axes>"
      ]
     },
     "metadata": {
      "needs_background": "light"
     },
     "output_type": "display_data"
    }
   ],
   "source": [
    "df['TotalSum'].hist()\n",
    "df['Quantity'].hist()\n",
    "df['Price'].hist()"
   ]
  },
  {
   "cell_type": "markdown",
   "id": "52c16737",
   "metadata": {},
   "source": [
    "Find The Minimum Ans The Maximum Date in Our data set"
   ]
  },
  {
   "cell_type": "code",
   "execution_count": 296,
   "id": "3c7f639a",
   "metadata": {},
   "outputs": [
    {
     "name": "stdout",
     "output_type": "stream",
     "text": [
      "Min:2009-01-12 07:45:00;Max:2011-12-10 17:19:00\n"
     ]
    }
   ],
   "source": [
    "print('Min:{};Max:{}'.format(min(df.InvoiceDate),max(df.InvoiceDate)))"
   ]
  },
  {
   "cell_type": "markdown",
   "id": "4430969b",
   "metadata": {},
   "source": [
    "## Add Column Snapshot_date \n",
    "because the data range between 2009_2011  and RFM Analysis in Real World will Created at today \n",
    "\n",
    "so we will emulate The Real Problem by increase the maximum date by one day"
   ]
  },
  {
   "cell_type": "code",
   "execution_count": 297,
   "id": "6f6d188a",
   "metadata": {},
   "outputs": [
    {
     "data": {
      "text/plain": [
       "Timestamp('2011-12-11 17:19:00')"
      ]
     },
     "execution_count": 297,
     "metadata": {},
     "output_type": "execute_result"
    }
   ],
   "source": [
    "import datetime\n",
    "snapshot_date=max(df[\"InvoiceDate\"]) + datetime.timedelta(days=1)\n",
    "snapshot_date"
   ]
  },
  {
   "cell_type": "markdown",
   "id": "37b5f845",
   "metadata": {},
   "source": [
    "As We defined Before\n",
    "\n",
    "Recency: Will be the days left from last Transaction by customer\n",
    "\n",
    "Frequency: How often Each Customer purchased in the past\n",
    "\n",
    "Mondetary: how much Each Customer spent overall"
   ]
  },
  {
   "cell_type": "code",
   "execution_count": 298,
   "id": "72b609ca",
   "metadata": {},
   "outputs": [
    {
     "data": {
      "text/html": [
       "<div>\n",
       "<style scoped>\n",
       "    .dataframe tbody tr th:only-of-type {\n",
       "        vertical-align: middle;\n",
       "    }\n",
       "\n",
       "    .dataframe tbody tr th {\n",
       "        vertical-align: top;\n",
       "    }\n",
       "\n",
       "    .dataframe thead th {\n",
       "        text-align: right;\n",
       "    }\n",
       "</style>\n",
       "<table border=\"1\" class=\"dataframe\">\n",
       "  <thead>\n",
       "    <tr style=\"text-align: right;\">\n",
       "      <th></th>\n",
       "      <th>InvoiceDate</th>\n",
       "      <th>Invoice</th>\n",
       "      <th>TotalSum</th>\n",
       "    </tr>\n",
       "    <tr>\n",
       "      <th>Customer ID</th>\n",
       "      <th></th>\n",
       "      <th></th>\n",
       "      <th></th>\n",
       "    </tr>\n",
       "  </thead>\n",
       "  <tbody>\n",
       "    <tr>\n",
       "      <th>12346.0</th>\n",
       "      <td>327</td>\n",
       "      <td>34</td>\n",
       "      <td>433.700</td>\n",
       "    </tr>\n",
       "    <tr>\n",
       "      <th>12347.0</th>\n",
       "      <td>41</td>\n",
       "      <td>242</td>\n",
       "      <td>5219.740</td>\n",
       "    </tr>\n",
       "    <tr>\n",
       "      <th>12348.0</th>\n",
       "      <td>77</td>\n",
       "      <td>51</td>\n",
       "      <td>1299.045</td>\n",
       "    </tr>\n",
       "    <tr>\n",
       "      <th>12349.0</th>\n",
       "      <td>20</td>\n",
       "      <td>175</td>\n",
       "      <td>3626.440</td>\n",
       "    </tr>\n",
       "    <tr>\n",
       "      <th>12350.0</th>\n",
       "      <td>312</td>\n",
       "      <td>17</td>\n",
       "      <td>310.450</td>\n",
       "    </tr>\n",
       "  </tbody>\n",
       "</table>\n",
       "</div>"
      ],
      "text/plain": [
       "             InvoiceDate  Invoice  TotalSum\n",
       "Customer ID                                \n",
       "12346.0              327       34   433.700\n",
       "12347.0               41      242  5219.740\n",
       "12348.0               77       51  1299.045\n",
       "12349.0               20      175  3626.440\n",
       "12350.0              312       17   310.450"
      ]
     },
     "execution_count": 298,
     "metadata": {},
     "output_type": "execute_result"
    }
   ],
   "source": [
    "datamart=df.groupby([\"Customer ID\"]).agg({\n",
    "    'InvoiceDate':lambda x:(snapshot_date-x.max()).days,\n",
    "    'Invoice':'count',\n",
    "    'TotalSum':'sum'})\n",
    "datamart.head()"
   ]
  },
  {
   "cell_type": "code",
   "execution_count": 299,
   "id": "64c8a4c3",
   "metadata": {},
   "outputs": [
    {
     "data": {
      "text/html": [
       "<div>\n",
       "<style scoped>\n",
       "    .dataframe tbody tr th:only-of-type {\n",
       "        vertical-align: middle;\n",
       "    }\n",
       "\n",
       "    .dataframe tbody tr th {\n",
       "        vertical-align: top;\n",
       "    }\n",
       "\n",
       "    .dataframe thead th {\n",
       "        text-align: right;\n",
       "    }\n",
       "</style>\n",
       "<table border=\"1\" class=\"dataframe\">\n",
       "  <thead>\n",
       "    <tr style=\"text-align: right;\">\n",
       "      <th></th>\n",
       "      <th>Recency</th>\n",
       "      <th>Frequency</th>\n",
       "      <th>MonetaryValue</th>\n",
       "    </tr>\n",
       "    <tr>\n",
       "      <th>Customer ID</th>\n",
       "      <th></th>\n",
       "      <th></th>\n",
       "      <th></th>\n",
       "    </tr>\n",
       "  </thead>\n",
       "  <tbody>\n",
       "    <tr>\n",
       "      <th>12346.0</th>\n",
       "      <td>327</td>\n",
       "      <td>34</td>\n",
       "      <td>433.700</td>\n",
       "    </tr>\n",
       "    <tr>\n",
       "      <th>12347.0</th>\n",
       "      <td>41</td>\n",
       "      <td>242</td>\n",
       "      <td>5219.740</td>\n",
       "    </tr>\n",
       "    <tr>\n",
       "      <th>12348.0</th>\n",
       "      <td>77</td>\n",
       "      <td>51</td>\n",
       "      <td>1299.045</td>\n",
       "    </tr>\n",
       "    <tr>\n",
       "      <th>12349.0</th>\n",
       "      <td>20</td>\n",
       "      <td>175</td>\n",
       "      <td>3626.440</td>\n",
       "    </tr>\n",
       "    <tr>\n",
       "      <th>12350.0</th>\n",
       "      <td>312</td>\n",
       "      <td>17</td>\n",
       "      <td>310.450</td>\n",
       "    </tr>\n",
       "  </tbody>\n",
       "</table>\n",
       "</div>"
      ],
      "text/plain": [
       "             Recency  Frequency  MonetaryValue\n",
       "Customer ID                                   \n",
       "12346.0          327         34        433.700\n",
       "12347.0           41        242       5219.740\n",
       "12348.0           77         51       1299.045\n",
       "12349.0           20        175       3626.440\n",
       "12350.0          312         17        310.450"
      ]
     },
     "execution_count": 299,
     "metadata": {},
     "output_type": "execute_result"
    }
   ],
   "source": [
    "datamart.rename(\n",
    "         columns={'InvoiceDate':'Recency',\n",
    "                  'Invoice' :'Frequency',\n",
    "                  'TotalSum':'MonetaryValue'}\n",
    "        ,inplace=True)\n",
    "datamart.head()"
   ]
  },
  {
   "cell_type": "markdown",
   "id": "53030439",
   "metadata": {},
   "source": [
    "### Group Customer into 4 Segments of same Size for each RFM Value using qcut() Function"
   ]
  },
  {
   "cell_type": "markdown",
   "id": "789919af",
   "metadata": {},
   "source": [
    "For Recency Metric Generate Values For labels Using Range Function"
   ]
  },
  {
   "cell_type": "markdown",
   "id": "566ef05d",
   "metadata": {},
   "source": [
    "###  We Have to decide if the high value of the metric should be good or bad and define the order of label\n",
    "#### Beacuse Recency identify the days since last transaction \n",
    "we will rate the customer who have been more recently better than the less recent customers"
   ]
  },
  {
   "cell_type": "code",
   "execution_count": 300,
   "id": "00524a4a",
   "metadata": {},
   "outputs": [
    {
     "data": {
      "text/html": [
       "<div>\n",
       "<style scoped>\n",
       "    .dataframe tbody tr th:only-of-type {\n",
       "        vertical-align: middle;\n",
       "    }\n",
       "\n",
       "    .dataframe tbody tr th {\n",
       "        vertical-align: top;\n",
       "    }\n",
       "\n",
       "    .dataframe thead th {\n",
       "        text-align: right;\n",
       "    }\n",
       "</style>\n",
       "<table border=\"1\" class=\"dataframe\">\n",
       "  <thead>\n",
       "    <tr style=\"text-align: right;\">\n",
       "      <th></th>\n",
       "      <th>Recency</th>\n",
       "      <th>Frequency</th>\n",
       "      <th>MonetaryValue</th>\n",
       "      <th>R</th>\n",
       "    </tr>\n",
       "    <tr>\n",
       "      <th>Customer ID</th>\n",
       "      <th></th>\n",
       "      <th></th>\n",
       "      <th></th>\n",
       "      <th></th>\n",
       "    </tr>\n",
       "  </thead>\n",
       "  <tbody>\n",
       "    <tr>\n",
       "      <th>12346.0</th>\n",
       "      <td>327</td>\n",
       "      <td>34</td>\n",
       "      <td>433.700</td>\n",
       "      <td>2</td>\n",
       "    </tr>\n",
       "    <tr>\n",
       "      <th>12347.0</th>\n",
       "      <td>41</td>\n",
       "      <td>242</td>\n",
       "      <td>5219.740</td>\n",
       "      <td>3</td>\n",
       "    </tr>\n",
       "    <tr>\n",
       "      <th>12348.0</th>\n",
       "      <td>77</td>\n",
       "      <td>51</td>\n",
       "      <td>1299.045</td>\n",
       "      <td>3</td>\n",
       "    </tr>\n",
       "    <tr>\n",
       "      <th>12349.0</th>\n",
       "      <td>20</td>\n",
       "      <td>175</td>\n",
       "      <td>3626.440</td>\n",
       "      <td>4</td>\n",
       "    </tr>\n",
       "    <tr>\n",
       "      <th>12350.0</th>\n",
       "      <td>312</td>\n",
       "      <td>17</td>\n",
       "      <td>310.450</td>\n",
       "      <td>2</td>\n",
       "    </tr>\n",
       "  </tbody>\n",
       "</table>\n",
       "</div>"
      ],
      "text/plain": [
       "             Recency  Frequency  MonetaryValue  R\n",
       "Customer ID                                      \n",
       "12346.0          327         34        433.700  2\n",
       "12347.0           41        242       5219.740  3\n",
       "12348.0           77         51       1299.045  3\n",
       "12349.0           20        175       3626.440  4\n",
       "12350.0          312         17        310.450  2"
      ]
     },
     "execution_count": 300,
     "metadata": {},
     "output_type": "execute_result"
    }
   ],
   "source": [
    "r_labels=range(4,0,-1)\n",
    "r_quartiles=pd.qcut(datamart['Recency'],4,labels=r_labels)\n",
    "datamart=datamart.assign(R=r_quartiles.values)\n",
    "datamart.head()"
   ]
  },
  {
   "cell_type": "markdown",
   "id": "67db957a",
   "metadata": {},
   "source": [
    "Sorted The Customers by their Recency values in an increasing order and then assigns values from 4 to 1 based on Quartile they fall to "
   ]
  },
  {
   "cell_type": "markdown",
   "id": "bf6dfd3b",
   "metadata": {},
   "source": [
    "### Make Same For Frequency and Monetary values but in different order because\n",
    "#### there are better when they are higher that we want customer to spend more and visit often so we asssign higher label to higher value "
   ]
  },
  {
   "cell_type": "code",
   "execution_count": 301,
   "id": "93fe3fcf",
   "metadata": {},
   "outputs": [],
   "source": [
    "f_labels=range(1,5)\n",
    "f_quartiles=pd.qcut(datamart['Frequency'],4,labels=f_labels)\n",
    "datamart=datamart.assign(F=f_quartiles.values)"
   ]
  },
  {
   "cell_type": "code",
   "execution_count": 302,
   "id": "1f56ef9a",
   "metadata": {},
   "outputs": [],
   "source": [
    "m_labels=range(1,5)\n",
    "m_quartiles=pd.qcut(datamart['MonetaryValue'],4,labels=m_labels)\n",
    "datamart=datamart.assign(M=m_quartiles.values)"
   ]
  },
  {
   "cell_type": "code",
   "execution_count": 303,
   "id": "a6964ac6",
   "metadata": {},
   "outputs": [
    {
     "data": {
      "text/html": [
       "<div>\n",
       "<style scoped>\n",
       "    .dataframe tbody tr th:only-of-type {\n",
       "        vertical-align: middle;\n",
       "    }\n",
       "\n",
       "    .dataframe tbody tr th {\n",
       "        vertical-align: top;\n",
       "    }\n",
       "\n",
       "    .dataframe thead th {\n",
       "        text-align: right;\n",
       "    }\n",
       "</style>\n",
       "<table border=\"1\" class=\"dataframe\">\n",
       "  <thead>\n",
       "    <tr style=\"text-align: right;\">\n",
       "      <th></th>\n",
       "      <th>Recency</th>\n",
       "      <th>Frequency</th>\n",
       "      <th>MonetaryValue</th>\n",
       "      <th>R</th>\n",
       "      <th>F</th>\n",
       "      <th>M</th>\n",
       "    </tr>\n",
       "    <tr>\n",
       "      <th>Customer ID</th>\n",
       "      <th></th>\n",
       "      <th></th>\n",
       "      <th></th>\n",
       "      <th></th>\n",
       "      <th></th>\n",
       "      <th></th>\n",
       "    </tr>\n",
       "  </thead>\n",
       "  <tbody>\n",
       "    <tr>\n",
       "      <th>12346.0</th>\n",
       "      <td>327</td>\n",
       "      <td>34</td>\n",
       "      <td>433.700</td>\n",
       "      <td>2</td>\n",
       "      <td>2</td>\n",
       "      <td>2</td>\n",
       "    </tr>\n",
       "    <tr>\n",
       "      <th>12347.0</th>\n",
       "      <td>41</td>\n",
       "      <td>242</td>\n",
       "      <td>5219.740</td>\n",
       "      <td>3</td>\n",
       "      <td>4</td>\n",
       "      <td>4</td>\n",
       "    </tr>\n",
       "    <tr>\n",
       "      <th>12348.0</th>\n",
       "      <td>77</td>\n",
       "      <td>51</td>\n",
       "      <td>1299.045</td>\n",
       "      <td>3</td>\n",
       "      <td>2</td>\n",
       "      <td>3</td>\n",
       "    </tr>\n",
       "    <tr>\n",
       "      <th>12349.0</th>\n",
       "      <td>20</td>\n",
       "      <td>175</td>\n",
       "      <td>3626.440</td>\n",
       "      <td>4</td>\n",
       "      <td>4</td>\n",
       "      <td>4</td>\n",
       "    </tr>\n",
       "    <tr>\n",
       "      <th>12350.0</th>\n",
       "      <td>312</td>\n",
       "      <td>17</td>\n",
       "      <td>310.450</td>\n",
       "      <td>2</td>\n",
       "      <td>1</td>\n",
       "      <td>1</td>\n",
       "    </tr>\n",
       "  </tbody>\n",
       "</table>\n",
       "</div>"
      ],
      "text/plain": [
       "             Recency  Frequency  MonetaryValue  R  F  M\n",
       "Customer ID                                            \n",
       "12346.0          327         34        433.700  2  2  2\n",
       "12347.0           41        242       5219.740  3  4  4\n",
       "12348.0           77         51       1299.045  3  2  3\n",
       "12349.0           20        175       3626.440  4  4  4\n",
       "12350.0          312         17        310.450  2  1  1"
      ]
     },
     "execution_count": 303,
     "metadata": {},
     "output_type": "execute_result"
    }
   ],
   "source": [
    "datamart.head()"
   ]
  },
  {
   "cell_type": "markdown",
   "id": "e3e40a17",
   "metadata": {},
   "source": [
    "### Concat RFM values as String At first To Add RFM_Segment Column"
   ]
  },
  {
   "cell_type": "code",
   "execution_count": 304,
   "id": "5d4af6e6",
   "metadata": {},
   "outputs": [
    {
     "data": {
      "text/html": [
       "<div>\n",
       "<style scoped>\n",
       "    .dataframe tbody tr th:only-of-type {\n",
       "        vertical-align: middle;\n",
       "    }\n",
       "\n",
       "    .dataframe tbody tr th {\n",
       "        vertical-align: top;\n",
       "    }\n",
       "\n",
       "    .dataframe thead th {\n",
       "        text-align: right;\n",
       "    }\n",
       "</style>\n",
       "<table border=\"1\" class=\"dataframe\">\n",
       "  <thead>\n",
       "    <tr style=\"text-align: right;\">\n",
       "      <th></th>\n",
       "      <th>Recency</th>\n",
       "      <th>Frequency</th>\n",
       "      <th>MonetaryValue</th>\n",
       "      <th>R</th>\n",
       "      <th>F</th>\n",
       "      <th>M</th>\n",
       "      <th>RFM_Segment</th>\n",
       "    </tr>\n",
       "    <tr>\n",
       "      <th>Customer ID</th>\n",
       "      <th></th>\n",
       "      <th></th>\n",
       "      <th></th>\n",
       "      <th></th>\n",
       "      <th></th>\n",
       "      <th></th>\n",
       "      <th></th>\n",
       "    </tr>\n",
       "  </thead>\n",
       "  <tbody>\n",
       "    <tr>\n",
       "      <th>12346.0</th>\n",
       "      <td>327</td>\n",
       "      <td>34</td>\n",
       "      <td>433.700</td>\n",
       "      <td>2</td>\n",
       "      <td>2</td>\n",
       "      <td>2</td>\n",
       "      <td>222</td>\n",
       "    </tr>\n",
       "    <tr>\n",
       "      <th>12347.0</th>\n",
       "      <td>41</td>\n",
       "      <td>242</td>\n",
       "      <td>5219.740</td>\n",
       "      <td>3</td>\n",
       "      <td>4</td>\n",
       "      <td>4</td>\n",
       "      <td>344</td>\n",
       "    </tr>\n",
       "    <tr>\n",
       "      <th>12348.0</th>\n",
       "      <td>77</td>\n",
       "      <td>51</td>\n",
       "      <td>1299.045</td>\n",
       "      <td>3</td>\n",
       "      <td>2</td>\n",
       "      <td>3</td>\n",
       "      <td>323</td>\n",
       "    </tr>\n",
       "    <tr>\n",
       "      <th>12349.0</th>\n",
       "      <td>20</td>\n",
       "      <td>175</td>\n",
       "      <td>3626.440</td>\n",
       "      <td>4</td>\n",
       "      <td>4</td>\n",
       "      <td>4</td>\n",
       "      <td>444</td>\n",
       "    </tr>\n",
       "    <tr>\n",
       "      <th>12350.0</th>\n",
       "      <td>312</td>\n",
       "      <td>17</td>\n",
       "      <td>310.450</td>\n",
       "      <td>2</td>\n",
       "      <td>1</td>\n",
       "      <td>1</td>\n",
       "      <td>211</td>\n",
       "    </tr>\n",
       "  </tbody>\n",
       "</table>\n",
       "</div>"
      ],
      "text/plain": [
       "             Recency  Frequency  MonetaryValue  R  F  M RFM_Segment\n",
       "Customer ID                                                        \n",
       "12346.0          327         34        433.700  2  2  2         222\n",
       "12347.0           41        242       5219.740  3  4  4         344\n",
       "12348.0           77         51       1299.045  3  2  3         323\n",
       "12349.0           20        175       3626.440  4  4  4         444\n",
       "12350.0          312         17        310.450  2  1  1         211"
      ]
     },
     "execution_count": 304,
     "metadata": {},
     "output_type": "execute_result"
    }
   ],
   "source": [
    "datamart[\"RFM_Segment\"] =(datamart['R'].astype(str) + \n",
    "                    datamart['F'].astype(str) + \n",
    "                    datamart['M'].astype(str))\n",
    "\n",
    "datamart.head()"
   ]
  },
  {
   "cell_type": "markdown",
   "id": "8f0e44e3",
   "metadata": {},
   "source": [
    "### RFM _Score column that indicate a relative Customer Value "
   ]
  },
  {
   "cell_type": "code",
   "execution_count": 305,
   "id": "d86b39ad",
   "metadata": {},
   "outputs": [
    {
     "data": {
      "text/html": [
       "<div>\n",
       "<style scoped>\n",
       "    .dataframe tbody tr th:only-of-type {\n",
       "        vertical-align: middle;\n",
       "    }\n",
       "\n",
       "    .dataframe tbody tr th {\n",
       "        vertical-align: top;\n",
       "    }\n",
       "\n",
       "    .dataframe thead th {\n",
       "        text-align: right;\n",
       "    }\n",
       "</style>\n",
       "<table border=\"1\" class=\"dataframe\">\n",
       "  <thead>\n",
       "    <tr style=\"text-align: right;\">\n",
       "      <th></th>\n",
       "      <th>Recency</th>\n",
       "      <th>Frequency</th>\n",
       "      <th>MonetaryValue</th>\n",
       "      <th>R</th>\n",
       "      <th>F</th>\n",
       "      <th>M</th>\n",
       "      <th>RFM_Segment</th>\n",
       "      <th>RFM_Score</th>\n",
       "    </tr>\n",
       "    <tr>\n",
       "      <th>Customer ID</th>\n",
       "      <th></th>\n",
       "      <th></th>\n",
       "      <th></th>\n",
       "      <th></th>\n",
       "      <th></th>\n",
       "      <th></th>\n",
       "      <th></th>\n",
       "      <th></th>\n",
       "    </tr>\n",
       "  </thead>\n",
       "  <tbody>\n",
       "    <tr>\n",
       "      <th>12346.0</th>\n",
       "      <td>327</td>\n",
       "      <td>34</td>\n",
       "      <td>433.700</td>\n",
       "      <td>2</td>\n",
       "      <td>2</td>\n",
       "      <td>2</td>\n",
       "      <td>222</td>\n",
       "      <td>6</td>\n",
       "    </tr>\n",
       "    <tr>\n",
       "      <th>12347.0</th>\n",
       "      <td>41</td>\n",
       "      <td>242</td>\n",
       "      <td>5219.740</td>\n",
       "      <td>3</td>\n",
       "      <td>4</td>\n",
       "      <td>4</td>\n",
       "      <td>344</td>\n",
       "      <td>11</td>\n",
       "    </tr>\n",
       "    <tr>\n",
       "      <th>12348.0</th>\n",
       "      <td>77</td>\n",
       "      <td>51</td>\n",
       "      <td>1299.045</td>\n",
       "      <td>3</td>\n",
       "      <td>2</td>\n",
       "      <td>3</td>\n",
       "      <td>323</td>\n",
       "      <td>8</td>\n",
       "    </tr>\n",
       "    <tr>\n",
       "      <th>12349.0</th>\n",
       "      <td>20</td>\n",
       "      <td>175</td>\n",
       "      <td>3626.440</td>\n",
       "      <td>4</td>\n",
       "      <td>4</td>\n",
       "      <td>4</td>\n",
       "      <td>444</td>\n",
       "      <td>12</td>\n",
       "    </tr>\n",
       "    <tr>\n",
       "      <th>12350.0</th>\n",
       "      <td>312</td>\n",
       "      <td>17</td>\n",
       "      <td>310.450</td>\n",
       "      <td>2</td>\n",
       "      <td>1</td>\n",
       "      <td>1</td>\n",
       "      <td>211</td>\n",
       "      <td>4</td>\n",
       "    </tr>\n",
       "  </tbody>\n",
       "</table>\n",
       "</div>"
      ],
      "text/plain": [
       "             Recency  Frequency  MonetaryValue  R  F  M RFM_Segment  RFM_Score\n",
       "Customer ID                                                                   \n",
       "12346.0          327         34        433.700  2  2  2         222          6\n",
       "12347.0           41        242       5219.740  3  4  4         344         11\n",
       "12348.0           77         51       1299.045  3  2  3         323          8\n",
       "12349.0           20        175       3626.440  4  4  4         444         12\n",
       "12350.0          312         17        310.450  2  1  1         211          4"
      ]
     },
     "execution_count": 305,
     "metadata": {},
     "output_type": "execute_result"
    }
   ],
   "source": [
    "\n",
    "datamart['RFM_Score']=datamart[['R','F','M']].sum(axis=1)\n",
    "datamart.head()"
   ]
  },
  {
   "cell_type": "code",
   "execution_count": 306,
   "id": "6a24c3c4",
   "metadata": {},
   "outputs": [
    {
     "name": "stdout",
     "output_type": "stream",
     "text": [
      "MinScore:3;MaxScore:12\n"
     ]
    }
   ],
   "source": [
    "print('MinScore:{};MaxScore:{}'.format(min(datamart.RFM_Score),max(datamart.RFM_Score)))"
   ]
  },
  {
   "cell_type": "markdown",
   "id": "71ae7a09",
   "metadata": {},
   "source": [
    "### Last Step: Group Customer into ( Gold,Silver,Bronze) Segments"
   ]
  },
  {
   "cell_type": "code",
   "execution_count": 307,
   "id": "9f3a024e",
   "metadata": {},
   "outputs": [],
   "source": [
    "def categorize(datamart):\n",
    "    if datamart['RFM_Score']>=9:\n",
    "        return 'GOLD'\n",
    "    elif (datamart['RFM_Score']>=5) and (datamart['RFM_Score']):\n",
    "        return 'Silver'\n",
    "    else:\n",
    "        return 'Bronze'"
   ]
  },
  {
   "cell_type": "code",
   "execution_count": 308,
   "id": "422857f1",
   "metadata": {},
   "outputs": [
    {
     "data": {
      "text/html": [
       "<div>\n",
       "<style scoped>\n",
       "    .dataframe tbody tr th:only-of-type {\n",
       "        vertical-align: middle;\n",
       "    }\n",
       "\n",
       "    .dataframe tbody tr th {\n",
       "        vertical-align: top;\n",
       "    }\n",
       "\n",
       "    .dataframe thead th {\n",
       "        text-align: right;\n",
       "    }\n",
       "</style>\n",
       "<table border=\"1\" class=\"dataframe\">\n",
       "  <thead>\n",
       "    <tr style=\"text-align: right;\">\n",
       "      <th></th>\n",
       "      <th>Recency</th>\n",
       "      <th>Frequency</th>\n",
       "      <th>MonetaryValue</th>\n",
       "      <th>R</th>\n",
       "      <th>F</th>\n",
       "      <th>M</th>\n",
       "      <th>RFM_Segment</th>\n",
       "      <th>RFM_Score</th>\n",
       "      <th>Final_Segment</th>\n",
       "    </tr>\n",
       "    <tr>\n",
       "      <th>Customer ID</th>\n",
       "      <th></th>\n",
       "      <th></th>\n",
       "      <th></th>\n",
       "      <th></th>\n",
       "      <th></th>\n",
       "      <th></th>\n",
       "      <th></th>\n",
       "      <th></th>\n",
       "      <th></th>\n",
       "    </tr>\n",
       "  </thead>\n",
       "  <tbody>\n",
       "    <tr>\n",
       "      <th>12346.0</th>\n",
       "      <td>327</td>\n",
       "      <td>34</td>\n",
       "      <td>433.700</td>\n",
       "      <td>2</td>\n",
       "      <td>2</td>\n",
       "      <td>2</td>\n",
       "      <td>222</td>\n",
       "      <td>6</td>\n",
       "      <td>Silver</td>\n",
       "    </tr>\n",
       "    <tr>\n",
       "      <th>12347.0</th>\n",
       "      <td>41</td>\n",
       "      <td>242</td>\n",
       "      <td>5219.740</td>\n",
       "      <td>3</td>\n",
       "      <td>4</td>\n",
       "      <td>4</td>\n",
       "      <td>344</td>\n",
       "      <td>11</td>\n",
       "      <td>GOLD</td>\n",
       "    </tr>\n",
       "    <tr>\n",
       "      <th>12348.0</th>\n",
       "      <td>77</td>\n",
       "      <td>51</td>\n",
       "      <td>1299.045</td>\n",
       "      <td>3</td>\n",
       "      <td>2</td>\n",
       "      <td>3</td>\n",
       "      <td>323</td>\n",
       "      <td>8</td>\n",
       "      <td>Silver</td>\n",
       "    </tr>\n",
       "    <tr>\n",
       "      <th>12349.0</th>\n",
       "      <td>20</td>\n",
       "      <td>175</td>\n",
       "      <td>3626.440</td>\n",
       "      <td>4</td>\n",
       "      <td>4</td>\n",
       "      <td>4</td>\n",
       "      <td>444</td>\n",
       "      <td>12</td>\n",
       "      <td>GOLD</td>\n",
       "    </tr>\n",
       "    <tr>\n",
       "      <th>12350.0</th>\n",
       "      <td>312</td>\n",
       "      <td>17</td>\n",
       "      <td>310.450</td>\n",
       "      <td>2</td>\n",
       "      <td>1</td>\n",
       "      <td>1</td>\n",
       "      <td>211</td>\n",
       "      <td>4</td>\n",
       "      <td>Bronze</td>\n",
       "    </tr>\n",
       "  </tbody>\n",
       "</table>\n",
       "</div>"
      ],
      "text/plain": [
       "             Recency  Frequency  MonetaryValue  R  F  M RFM_Segment  \\\n",
       "Customer ID                                                           \n",
       "12346.0          327         34        433.700  2  2  2         222   \n",
       "12347.0           41        242       5219.740  3  4  4         344   \n",
       "12348.0           77         51       1299.045  3  2  3         323   \n",
       "12349.0           20        175       3626.440  4  4  4         444   \n",
       "12350.0          312         17        310.450  2  1  1         211   \n",
       "\n",
       "             RFM_Score Final_Segment  \n",
       "Customer ID                           \n",
       "12346.0              6        Silver  \n",
       "12347.0             11          GOLD  \n",
       "12348.0              8        Silver  \n",
       "12349.0             12          GOLD  \n",
       "12350.0              4        Bronze  "
      ]
     },
     "execution_count": 308,
     "metadata": {},
     "output_type": "execute_result"
    }
   ],
   "source": [
    "datamart['Final_Segment']=datamart.apply(categorize,axis=1)\n",
    "datamart.head()"
   ]
  },
  {
   "cell_type": "markdown",
   "id": "7b4dca9d",
   "metadata": {},
   "source": [
    "### Analyze RFM Values and Group Sizes Across The 3 Segments"
   ]
  },
  {
   "cell_type": "code",
   "execution_count": 309,
   "id": "e4eb8bf7",
   "metadata": {},
   "outputs": [
    {
     "data": {
      "text/html": [
       "<div>\n",
       "<style scoped>\n",
       "    .dataframe tbody tr th:only-of-type {\n",
       "        vertical-align: middle;\n",
       "    }\n",
       "\n",
       "    .dataframe tbody tr th {\n",
       "        vertical-align: top;\n",
       "    }\n",
       "\n",
       "    .dataframe thead tr th {\n",
       "        text-align: left;\n",
       "    }\n",
       "\n",
       "    .dataframe thead tr:last-of-type th {\n",
       "        text-align: right;\n",
       "    }\n",
       "</style>\n",
       "<table border=\"1\" class=\"dataframe\">\n",
       "  <thead>\n",
       "    <tr>\n",
       "      <th></th>\n",
       "      <th>Recency</th>\n",
       "      <th>Frequency</th>\n",
       "      <th colspan=\"2\" halign=\"left\">MonetaryValue</th>\n",
       "    </tr>\n",
       "    <tr>\n",
       "      <th></th>\n",
       "      <th>mean</th>\n",
       "      <th>mean</th>\n",
       "      <th>mean</th>\n",
       "      <th>count</th>\n",
       "    </tr>\n",
       "    <tr>\n",
       "      <th>Final_Segment</th>\n",
       "      <th></th>\n",
       "      <th></th>\n",
       "      <th></th>\n",
       "      <th></th>\n",
       "    </tr>\n",
       "  </thead>\n",
       "  <tbody>\n",
       "    <tr>\n",
       "      <th>Bronze</th>\n",
       "      <td>474.2</td>\n",
       "      <td>13.0</td>\n",
       "      <td>200.0</td>\n",
       "      <td>1135</td>\n",
       "    </tr>\n",
       "    <tr>\n",
       "      <th>GOLD</th>\n",
       "      <td>61.0</td>\n",
       "      <td>291.6</td>\n",
       "      <td>5282.9</td>\n",
       "      <td>2276</td>\n",
       "    </tr>\n",
       "    <tr>\n",
       "      <th>Silver</th>\n",
       "      <td>233.3</td>\n",
       "      <td>46.9</td>\n",
       "      <td>724.7</td>\n",
       "      <td>2452</td>\n",
       "    </tr>\n",
       "  </tbody>\n",
       "</table>\n",
       "</div>"
      ],
      "text/plain": [
       "              Recency Frequency MonetaryValue      \n",
       "                 mean      mean          mean count\n",
       "Final_Segment                                      \n",
       "Bronze          474.2      13.0         200.0  1135\n",
       "GOLD             61.0     291.6        5282.9  2276\n",
       "Silver          233.3      46.9         724.7  2452"
      ]
     },
     "execution_count": 309,
     "metadata": {},
     "output_type": "execute_result"
    }
   ],
   "source": [
    "datamart.groupby('Final_Segment').agg({\n",
    "    'Recency':'mean',\n",
    "    'Frequency':'mean',\n",
    "    'MonetaryValue':['mean','count']}).round(1)"
   ]
  }
 ],
 "metadata": {
  "kernelspec": {
   "display_name": "Python 3",
   "language": "python",
   "name": "python3"
  },
  "language_info": {
   "codemirror_mode": {
    "name": "ipython",
    "version": 3
   },
   "file_extension": ".py",
   "mimetype": "text/x-python",
   "name": "python",
   "nbconvert_exporter": "python",
   "pygments_lexer": "ipython3",
   "version": "3.8.8"
  }
 },
 "nbformat": 4,
 "nbformat_minor": 5
}
